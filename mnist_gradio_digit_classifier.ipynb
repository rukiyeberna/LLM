{
 "cells": [
  {
   "cell_type": "code",
   "execution_count": 26,
   "metadata": {},
   "outputs": [
    {
     "name": "stderr",
     "output_type": "stream",
     "text": [
      "WARNING:absl:Compiled the loaded model, but the compiled metrics have yet to be built. `model.compile_metrics` will be empty until you train or evaluate the model.\n"
     ]
    },
    {
     "name": "stdout",
     "output_type": "stream",
     "text": [
      "* Running on local URL:  http://127.0.0.1:7874\n",
      "* To create a public link, set `share=True` in `launch()`.\n"
     ]
    },
    {
     "data": {
      "text/html": [
       "<div><iframe src=\"http://127.0.0.1:7874/\" width=\"100%\" height=\"500\" allow=\"autoplay; camera; microphone; clipboard-read; clipboard-write;\" frameborder=\"0\" allowfullscreen></iframe></div>"
      ],
      "text/plain": [
       "<IPython.core.display.HTML object>"
      ]
     },
     "metadata": {},
     "output_type": "display_data"
    }
   ],
   "source": [
    "import gradio as gr\n",
    "import numpy as np\n",
    "from tensorflow.keras.models import load_model\n",
    "from PIL import Image\n",
    "\n",
    "\n",
    "model = load_model(\"mnist_model.h5\")\n",
    "\n",
    "def predict_digit(img):\n",
    "    if img is None:\n",
    "        return \"Lütfen bir rakam çizin!\"\n",
    "    \n",
    "    try:\n",
    "        # Sketchpad çıktısı \n",
    "        if isinstance(img, dict):\n",
    "            if 'composite' in img and img['composite'] is not None:\n",
    "                img = img['composite']\n",
    "            elif 'image' in img and img['image'] is not None:\n",
    "                img = img['image']\n",
    "            else:\n",
    "                return \"Çizim verisi bulunamadı!\"\n",
    "        \n",
    "        # NumPy array kontrolü\n",
    "        if not isinstance(img, np.ndarray):\n",
    "            return \"Geçersiz görsel formatı!\"\n",
    "        \n",
    "        # Eğer RGB ise gri tonlamaya \n",
    "        if len(img.shape) == 3:\n",
    "            img = np.mean(img, axis=2)\n",
    "        \n",
    "        # PIL Image'a çevir\n",
    "        img_pil = Image.fromarray(img.astype('uint8')).convert(\"L\")\n",
    "        \n",
    "       \n",
    "        img_resized = img_pil.resize((28, 28))\n",
    "        \n",
    "        # NumPy array'e çevir ve normalize et\n",
    "        img_array = np.array(img_resized).astype(\"float32\")\n",
    "        \n",
    "        # Renkleri ters çevir \n",
    "        img_array = 255 - img_array\n",
    "        \n",
    "       \n",
    "        img_array = img_array / 255.0\n",
    "        \n",
    "        # Model için reshape \n",
    "        img_array = img_array.reshape(1, 28, 28, 1)\n",
    "        \n",
    "        # Tahmin \n",
    "        prediction = model.predict(img_array, verbose=0)\n",
    "        predicted_digit = np.argmax(prediction)\n",
    "        confidence = np.max(prediction) * 100\n",
    "        \n",
    "        return f\"Modelin tahmini: {predicted_digit} (Güven: %{confidence:.1f})\"\n",
    "        \n",
    "    except Exception as e:\n",
    "        return f\"Hata: {str(e)}\"\n",
    "\n",
    "# Sketchpad kullanarak çizim arayüzü\n",
    "try:\n",
    "    demo = gr.Interface(\n",
    "        fn=predict_digit,\n",
    "        inputs=gr.Sketchpad(label=\"Rakam çizin (0-9)\"),\n",
    "        outputs=gr.Textbox(label=\"Sonuç\"),\n",
    "        title=\"🔢 MNIST Rakam Tahmini\",\n",
    "        description=\"Aşağıdaki alana fare ile 0-9 arası bir rakam çizin.\"\n",
    "    )\n",
    "except:\n",
    "    # Eski Gradio versiyonu sıkıntısı \n",
    "    demo = gr.Interface(\n",
    "        fn=predict_digit,\n",
    "        inputs=gr.Image(\n",
    "            source=\"canvas\" if hasattr(gr.Image, 'source') else None,\n",
    "            tool=\"sketch\" if hasattr(gr.Image, 'tool') else None,\n",
    "            type=\"numpy\",\n",
    "            label=\"Rakam çizin (0-9)\"\n",
    "        ),\n",
    "        outputs=gr.Textbox(label=\"Sonuç\"),\n",
    "        title=\" MNIST Rakam Tahmini\",\n",
    "        description=\"Canvas'a fare ile 0-9 arası bir rakam çizin.\"\n",
    "    )\n",
    "\n",
    "if __name__ == \"__main__\":\n",
    "    demo.launch()"
   ]
  }
 ],
 "metadata": {
  "kernelspec": {
   "display_name": "venv-ardupilot",
   "language": "python",
   "name": "python3"
  },
  "language_info": {
   "codemirror_mode": {
    "name": "ipython",
    "version": 3
   },
   "file_extension": ".py",
   "mimetype": "text/x-python",
   "name": "python",
   "nbconvert_exporter": "python",
   "pygments_lexer": "ipython3",
   "version": "3.12.3"
  }
 },
 "nbformat": 4,
 "nbformat_minor": 2
}
